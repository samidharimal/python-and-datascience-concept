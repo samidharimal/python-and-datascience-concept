{
 "cells": [
  {
   "cell_type": "code",
   "execution_count": 30,
   "metadata": {},
   "outputs": [
    {
     "name": "stdout",
     "output_type": "stream",
     "text": [
      "hello world\n"
     ]
    }
   ],
   "source": [
    "print(\"hello world\")"
   ]
  },
  {
   "cell_type": "markdown",
   "metadata": {},
   "source": [
    "print is the built in function which prints content inside parenthases \n",
    "\"hello world\" string as enclosed by \"\""
   ]
  },
  {
   "cell_type": "markdown",
   "metadata": {},
   "source": [
    "Variables are the reserved memory loctaion to store the value\n",
    "we declear a identifer then equals sign then the value we want for our variable"
   ]
  },
  {
   "cell_type": "code",
   "execution_count": 31,
   "metadata": {},
   "outputs": [
    {
     "name": "stdout",
     "output_type": "stream",
     "text": [
      "sum of two number is 13\n"
     ]
    }
   ],
   "source": [
    "# adding two numbers \n",
    "a = 6\n",
    "b = 7\n",
    "sum = (a+b)\n",
    "print(\"sum of two number is\", sum)"
   ]
  },
  {
   "cell_type": "markdown",
   "metadata": {},
   "source": [
    "Rules for declearing variable\n",
    "1. A variable name must start with a letter or the underscore character\n",
    "2. A variable name cannot start with a number\n",
    "3. A variable name can only contain alpha-numeric characters andunderscores (A-z, 0-9, and _ )\n",
    "4. Variable names are case-sensitive (age, Age and AGE are threedifferent variables)"
   ]
  },
  {
   "cell_type": "code",
   "execution_count": 32,
   "metadata": {},
   "outputs": [
    {
     "name": "stdout",
     "output_type": "stream",
     "text": [
      "a= 3\n",
      "b= 5\n"
     ]
    }
   ],
   "source": [
    "#swap two numbers\n",
    "a= 5\n",
    "b=3\n",
    "c=b\n",
    "b=a\n",
    "a=c\n",
    "print(\"a=\",a)\n",
    "print(\"b=\",b)"
   ]
  },
  {
   "cell_type": "code",
   "execution_count": 33,
   "metadata": {},
   "outputs": [
    {
     "name": "stdout",
     "output_type": "stream",
     "text": [
      "a= 8\n",
      "b= 7\n"
     ]
    }
   ],
   "source": [
    "#swapping without introducing new variables using addition and substraction\n",
    "a=7\n",
    "b=8\n",
    "a= a+b\n",
    "b= a-b\n",
    "a= a-b\n",
    "print(\"a=\",a)\n",
    "print(\"b=\",b)"
   ]
  },
  {
   "cell_type": "code",
   "execution_count": 34,
   "metadata": {},
   "outputs": [
    {
     "name": "stdout",
     "output_type": "stream",
     "text": [
      "a= 8.0\n",
      "b= 7.0\n"
     ]
    }
   ],
   "source": [
    "#swapping using multiplication and division\n",
    "a=7\n",
    "b= 8\n",
    "a= a*b\n",
    "b=a/b\n",
    "a= a/b\n",
    "print(\"a=\",a)\n",
    "print(\"b=\",b)"
   ]
  },
  {
   "cell_type": "code",
   "execution_count": 35,
   "metadata": {},
   "outputs": [
    {
     "name": "stdout",
     "output_type": "stream",
     "text": [
      "a= 8\n",
      "b= 7\n"
     ]
    }
   ],
   "source": [
    "#swapping using construct\n",
    "a=7\n",
    "b=8\n",
    "a,b = b,a\n",
    "print(\"a=\",a)\n",
    "print(\"b=\",b)"
   ]
  },
  {
   "cell_type": "code",
   "execution_count": 36,
   "metadata": {},
   "outputs": [
    {
     "name": "stdout",
     "output_type": "stream",
     "text": [
      "my name is samidha\n",
      "bmw\n",
      "bmwroyce\n",
      "178\n"
     ]
    }
   ],
   "source": [
    "x = \"samidha\"\n",
    "f=g=89\n",
    "a,b,c=\"bmw\",\"royce\",\"lambargini\"\n",
    "print(\"my name is \"+ x)\n",
    "print(a)\n",
    "print(a+b)\n",
    "print(f+g)"
   ]
  },
  {
   "cell_type": "markdown",
   "metadata": {},
   "source": [
    "user Input\n"
   ]
  },
  {
   "cell_type": "code",
   "execution_count": 39,
   "metadata": {},
   "outputs": [
    {
     "name": "stdout",
     "output_type": "stream",
     "text": [
      "what is your namesamidha\n",
      "<class 'str'>\n"
     ]
    }
   ],
   "source": [
    "#taking input from the user\n",
    "x = input(\"what is your name\")\n",
    "print(type(x))\n"
   ]
  },
  {
   "cell_type": "code",
   "execution_count": 40,
   "metadata": {},
   "outputs": [
    {
     "name": "stdout",
     "output_type": "stream",
     "text": [
      "enter anything10\n",
      "<class 'int'>\n"
     ]
    }
   ],
   "source": [
    "#finding the type of the input\n",
    "x = int(input(\"enter anything\"))\n",
    "print(type(x))\n"
   ]
  },
  {
   "cell_type": "code",
   "execution_count": 41,
   "metadata": {},
   "outputs": [
    {
     "name": "stdout",
     "output_type": "stream",
     "text": [
      "enter first number66\n",
      "enter the second  number99\n",
      "6534.0\n"
     ]
    }
   ],
   "source": [
    "#multiplying two number\n",
    "x= float(input(\"enter first number\"))\n",
    "y=float(input(\"enter the second  number\"))\n",
    "c= x * y\n",
    "print(c)"
   ]
  },
  {
   "cell_type": "code",
   "execution_count": 42,
   "metadata": {},
   "outputs": [
    {
     "name": "stdout",
     "output_type": "stream",
     "text": [
      "enter the number66\n",
      "66 gram was converted to 66000\n"
     ]
    }
   ],
   "source": [
    "#conintverting gram to kilogram\n",
    "x = int(input(\"enter the number\"))\n",
    "km= x*1000\n",
    "print(x ,\"gram was converted to\" ,km )"
   ]
  },
  {
   "cell_type": "code",
   "execution_count": null,
   "metadata": {},
   "outputs": [],
   "source": [
    "#finding out if the number is prime or composite\n",
    "#y = int(input(\"Enter the number\"))\n",
    "#if (y>1):\n",
    "    #for()"
   ]
  },
  {
   "cell_type": "markdown",
   "metadata": {},
   "source": [
    "Data Types in Python\n",
    "1.none\n",
    "2.numeric\n",
    "3.string \n",
    "4.list\n",
    "5.tuple \n",
    "6.set\n",
    "7.dictonary"
   ]
  },
  {
   "cell_type": "code",
   "execution_count": 43,
   "metadata": {},
   "outputs": [
    {
     "name": "stdout",
     "output_type": "stream",
     "text": [
      "<class 'NoneType'>\n"
     ]
    }
   ],
   "source": [
    "#none\n",
    "b = None\n",
    "print(type(b))"
   ]
  },
  {
   "cell_type": "code",
   "execution_count": 44,
   "metadata": {},
   "outputs": [
    {
     "name": "stdout",
     "output_type": "stream",
     "text": [
      "<class 'int'>\n",
      "<class 'float'>\n",
      "<class 'complex'>\n"
     ]
    }
   ],
   "source": [
    "#numeric\n",
    "a=3\n",
    "b=4.6\n",
    "c=complex =5+3j\n",
    "print(type(a))\n",
    "print(type(b))\n",
    "print(type(c))"
   ]
  },
  {
   "cell_type": "markdown",
   "metadata": {},
   "source": [
    "TypeCasting : process of converting one data type to another\n"
   ]
  },
  {
   "cell_type": "code",
   "execution_count": 45,
   "metadata": {},
   "outputs": [
    {
     "name": "stdout",
     "output_type": "stream",
     "text": [
      "3\n",
      "3.0\n",
      "0x73\n"
     ]
    }
   ],
   "source": [
    "a=int(3.4)\n",
    "b=float(3)\n",
    "c=hex(115)\n",
    "print(a)\n",
    "print(b)\n",
    "print(c)"
   ]
  },
  {
   "cell_type": "markdown",
   "metadata": {},
   "source": [
    "String: Created by adding single or double quote.\n",
    "Triple quotes string are useful when the content of the string literal span multiple line of codes."
   ]
  },
  {
   "cell_type": "code",
   "execution_count": 46,
   "metadata": {},
   "outputs": [
    {
     "name": "stdout",
     "output_type": "stream",
     "text": [
      "Have a safe journey\n",
      "Please turn your mobile in aeroplane mode\n"
     ]
    }
   ],
   "source": [
    "flight = 'Have a safe journey'\n",
    "aeroplane_mode =\"Please turn your mobile in aeroplane mode\"\n",
    "print(flight)\n",
    "print(aeroplane_mode)"
   ]
  },
  {
   "cell_type": "code",
   "execution_count": 47,
   "metadata": {},
   "outputs": [
    {
     "ename": "SyntaxError",
     "evalue": "invalid syntax (4291854937.py, line 2)",
     "output_type": "error",
     "traceback": [
      "\u001b[1;36m  Input \u001b[1;32mIn [47]\u001b[1;36m\u001b[0m\n\u001b[1;33m    fligh = 'I'll go by air'\u001b[0m\n\u001b[1;37m               ^\u001b[0m\n\u001b[1;31mSyntaxError\u001b[0m\u001b[1;31m:\u001b[0m invalid syntax\n"
     ]
    }
   ],
   "source": [
    "#invalid syntax\n",
    "fligh = 'I'll go by air'\n",
    "print(flight)\n",
    "\n"
   ]
  },
  {
   "cell_type": "code",
   "execution_count": 48,
   "metadata": {},
   "outputs": [
    {
     "name": "stdout",
     "output_type": "stream",
     "text": [
      "I'll go by air\n",
      "I will go by \"air\"\n"
     ]
    }
   ],
   "source": [
    "flight1= \"I'll go by air\"\n",
    "print(flight1)\n",
    "flight2 = 'I will go by \"air\"' \n",
    "print(flight2)"
   ]
  },
  {
   "cell_type": "code",
   "execution_count": 49,
   "metadata": {},
   "outputs": [
    {
     "name": "stdout",
     "output_type": "stream",
     "text": [
      "\n",
      "Dear sir,\n",
      "I am a student of BEIT\n",
      "I will like to join your team\n",
      "\n",
      "\n"
     ]
    }
   ],
   "source": [
    "#triple\n",
    "email ='''\n",
    "Dear sir,\n",
    "I am a student of BEIT\n",
    "I will like to join your team\n",
    "\n",
    "'''\n",
    "print(email)"
   ]
  },
  {
   "cell_type": "markdown",
   "metadata": {},
   "source": [
    "Slicing [] operator can be used with string.\n",
    "String are stored as character and indexed by integer.\n",
    "Slicing helps in extarction of single character.\n",
    "\n",
    "\n"
   ]
  },
  {
   "cell_type": "code",
   "execution_count": 50,
   "metadata": {},
   "outputs": [
    {
     "name": "stdout",
     "output_type": "stream",
     "text": [
      "d\n"
     ]
    }
   ],
   "source": [
    "weather = 'cold'\n",
    "print(weather[3])"
   ]
  },
  {
   "cell_type": "markdown",
   "metadata": {},
   "source": [
    " P   Y   T   H   O    N\n",
    " 0   1   2   3   4    5\n",
    "-6 -5  -4   -3  -2   -1"
   ]
  },
  {
   "cell_type": "code",
   "execution_count": 51,
   "metadata": {},
   "outputs": [
    {
     "name": "stdout",
     "output_type": "stream",
     "text": [
      "tho\n",
      "th\n"
     ]
    }
   ],
   "source": [
    "p ='Python'\n",
    "y = p[2:5]\n",
    "z = p[-4:-2]\n",
    "print(y)\n",
    "print(z)"
   ]
  },
  {
   "cell_type": "markdown",
   "metadata": {},
   "source": [
    "Staring is always included and ending is always excluded."
   ]
  },
  {
   "cell_type": "markdown",
   "metadata": {},
   "source": [
    "CONCATINATION"
   ]
  },
  {
   "cell_type": "code",
   "execution_count": 52,
   "metadata": {},
   "outputs": [
    {
     "name": "stdout",
     "output_type": "stream",
     "text": [
      "I love python \n"
     ]
    }
   ],
   "source": [
    "a = \"I love\"\n",
    "b = \" python \"\n",
    "print(a + b)"
   ]
  },
  {
   "cell_type": "code",
   "execution_count": 53,
   "metadata": {},
   "outputs": [
    {
     "name": "stdout",
     "output_type": "stream",
     "text": [
      "70\n"
     ]
    }
   ],
   "source": [
    "a = \"25\"\n",
    "b = int(a)\n",
    "print( 45 + b)"
   ]
  },
  {
   "cell_type": "code",
   "execution_count": 54,
   "metadata": {},
   "outputs": [
    {
     "name": "stdout",
     "output_type": "stream",
     "text": [
      "<class 'str'>\n",
      "<class 'str'>\n"
     ]
    }
   ],
   "source": [
    "#type casting\n",
    "c = 20\n",
    "d = str(c)\n",
    "e = repr(c)\n",
    "print(type(d))\n",
    "print(type(e))\n",
    "\n",
    "\n"
   ]
  },
  {
   "cell_type": "code",
   "execution_count": 55,
   "metadata": {},
   "outputs": [
    {
     "name": "stdout",
     "output_type": "stream",
     "text": [
      "Binda Bhandari is an AI expert\n"
     ]
    }
   ],
   "source": [
    "#formatted string \n",
    "first_name =\"Binda\"\n",
    "last_name =\"Bhandari\"\n",
    "msg = f'{first_name} {last_name} is an AI expert'\n",
    "print(msg)"
   ]
  },
  {
   "cell_type": "code",
   "execution_count": 56,
   "metadata": {},
   "outputs": [
    {
     "name": "stdout",
     "output_type": "stream",
     "text": [
      "Python\n",
      "python\n",
      "1\n",
      "True\n",
      "4\n"
     ]
    }
   ],
   "source": [
    "c = \"python\"\n",
    "print(c.capitalize())\n",
    "print(c.casefold())\n",
    "print(c.count('y'))\n",
    "print(c.endswith('n'))\n",
    "print(c.find('o'))"
   ]
  },
  {
   "cell_type": "code",
   "execution_count": 57,
   "metadata": {},
   "outputs": [
    {
     "name": "stdout",
     "output_type": "stream",
     "text": [
      "Enter a stringshajja\n",
      "ajjahs\n"
     ]
    }
   ],
   "source": [
    "#reverse a string\n",
    "a= input(\"Enter a string\")\n",
    "print(a[::-1])"
   ]
  },
  {
   "cell_type": "markdown",
   "metadata": {},
   "source": [
    "List"
   ]
  },
  {
   "cell_type": "code",
   "execution_count": 58,
   "metadata": {},
   "outputs": [
    {
     "name": "stdout",
     "output_type": "stream",
     "text": [
      "[1, 2.2, 'python']\n",
      "2.2\n"
     ]
    }
   ],
   "source": [
    "a = [1,2.2,\"python\"]\n",
    "print(a)\n",
    "print(a[1])"
   ]
  },
  {
   "cell_type": "code",
   "execution_count": 59,
   "metadata": {},
   "outputs": [
    {
     "name": "stdout",
     "output_type": "stream",
     "text": [
      "The fourth value ---> 8\n"
     ]
    }
   ],
   "source": [
    "#order\n",
    "s =[5,6,7,8]\n",
    "print(\"The fourth value --->\", s[3])"
   ]
  },
  {
   "cell_type": "code",
   "execution_count": 60,
   "metadata": {},
   "outputs": [
    {
     "name": "stdout",
     "output_type": "stream",
     "text": [
      "['sam', 'b', 3, 4, 6]\n",
      "['sam', 'b', 3, 4, 6]\n"
     ]
    }
   ],
   "source": [
    "#slicing\n",
    "a = [\"sam\",'b',3,4,6,'w']\n",
    "print(a[0:5])\n",
    "print(a[-6:-1])"
   ]
  },
  {
   "cell_type": "code",
   "execution_count": 61,
   "metadata": {},
   "outputs": [
    {
     "name": "stdout",
     "output_type": "stream",
     "text": [
      "Original List---> ['sam', 'b', 3, 4, 6, 'w']\n",
      "New List-----> ['sam', 'b', 3, 4, 'cally', 'w']\n"
     ]
    }
   ],
   "source": [
    "a = [\"sam\",'b',3,4,6,'w']\n",
    "print(\"Original List--->\",a)\n",
    "a[-2] = \"cally\"\n",
    "print(\"New List----->\",a)\n"
   ]
  },
  {
   "cell_type": "code",
   "execution_count": null,
   "metadata": {},
   "outputs": [],
   "source": [
    "#some method\n",
    "a.append(1)\n",
    "print(a)\n",
    "\n",
    "a.insert(3,4.6)\n",
    "print(a)\n",
    "\n"
   ]
  },
  {
   "cell_type": "markdown",
   "metadata": {},
   "source": [
    "2D List"
   ]
  },
  {
   "cell_type": "code",
   "execution_count": 64,
   "metadata": {},
   "outputs": [
    {
     "name": "stdout",
     "output_type": "stream",
     "text": [
      "Accessing first row: [1, 2, 3]\n",
      "Accessing first row: 2\n"
     ]
    }
   ],
   "source": [
    "a=[1,2,3]\n",
    "b=[4,5,7]\n",
    "c=[8,9,10]\n",
    "matrix=[a,b,c]\n",
    "matrix= [\n",
    "[1,2,3],\n",
    "[4,5,7],\n",
    "[8,9,10]\n",
    "    ]\n",
    "print(\"Accessing first row:\", matrix[0])\n",
    "    \n",
    "print(\"Accessing first row:\", matrix[0][1])\n"
   ]
  },
  {
   "cell_type": "code",
   "execution_count": null,
   "metadata": {},
   "outputs": [],
   "source": []
  },
  {
   "cell_type": "code",
   "execution_count": null,
   "metadata": {},
   "outputs": [],
   "source": []
  }
 ],
 "metadata": {
  "kernelspec": {
   "display_name": "venv1kernel",
   "language": "python",
   "name": "venv1kernel"
  },
  "language_info": {
   "codemirror_mode": {
    "name": "ipython",
    "version": 3
   },
   "file_extension": ".py",
   "mimetype": "text/x-python",
   "name": "python",
   "nbconvert_exporter": "python",
   "pygments_lexer": "ipython3",
   "version": "3.9.2"
  }
 },
 "nbformat": 4,
 "nbformat_minor": 4
}
